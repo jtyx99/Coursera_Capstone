{
 "cells": [
  {
   "cell_type": "markdown",
   "metadata": {},
   "source": [
    "# Introduction"
   ]
  },
  {
   "cell_type": "markdown",
   "metadata": {},
   "source": [
    "Singapore is a small country and one of the most visited countries in Asia. There are a\n",
    "lot of websites where travelers can check and retrieve recommendations of places to\n",
    "stay or visit. However, most of these websites provides recommendation simply based\n",
    "on usual tourist attractions or key residential areas that are mostly expensive or already\n",
    "known for travelers based on certain keywords like \"Hotel\", or \"Backpackers\" etc. The\n",
    "intention on this project is to collect and provide a data driven recommendation that\n",
    "can supplement the recommendation with statistical data. This will also be utilizing data\n",
    "retrieved from Singapore open data sources and FourSquare API venue\n",
    "recommendations.\n",
    "\n",
    "The sample recommender in this notebook will provide the following use case scenario:\n",
    "- A person planning to visit Singapore as a Tourist or an Expat and looking for a\n",
    "reasonable accommodation.\n",
    "- The user wants to receive venue recommendation where he can stay or rent an HDB\n",
    "apartment with close proximity to places of interest or search category option.\n",
    "- The recommendation should not only present the most viable option, but also present a\n",
    "comparison table of all possible town venues."
   ]
  },
  {
   "cell_type": "markdown",
   "metadata": {},
   "source": [
    "# Data"
   ]
  },
  {
   "cell_type": "markdown",
   "metadata": {},
   "source": [
    "The following data sources will be used:\n",
    "##### Singapore Towns and median residential rental prices. \n",
    "Data will retrieved from Singapore open dataset from median rent by town and\n",
    "flattype from https://data.gov.sg website.\n",
    "The original data source contains median rental prices of Singapore HDB units from\n",
    "2005 up to 2nd quarter of 2018. I will retrieve rental the most recent recorded rental\n",
    "prices from this data source (Q2 2018) being the most relevant price available at this\n",
    "time. For this demonstration, I will simplify the analysis by using the average rental\n",
    "prices of all available flat type.\n",
    "\n",
    "##### Singapore Towns location data retrieved using Google maps API.\n",
    "Data coordinates of Town Venues will be retrieved using the Google API. I also make use of\n",
    "MRT stations coordinate as a more important center of for all towns included in venue\n",
    "recommendations.\n",
    "\n",
    "##### Singapore Top Venue Recommendations from FourSquare API\n",
    "The FourSquare API will be used to explore neighborhoods in selected towns in\n",
    "Singapore to get the most common venue categories in each neighborhood. This feature will then be used to group the neighborhoods into clusters.\n",
    "<br/> The following information are retrieved on the first query:\n",
    "- Venue ID\n",
    "- Venue Name\n",
    "- Coordinates : Latitude and Longitude\n",
    "- Category Name\n",
    "\n",
    "Another venue query will be performed to retrieve venue ratings for each location. Note\n",
    "that rating information is a paid service from FourSquare and we are limited to only 50\n",
    "queries per day. With this constraint, we limit the category analysis with only one type\n",
    "for this demo. I will try to retrieve as many ratings as possible for each retrieved venue\n",
    "ID."
   ]
  },
  {
   "cell_type": "code",
   "execution_count": null,
   "metadata": {},
   "outputs": [],
   "source": []
  }
 ],
 "metadata": {
  "kernelspec": {
   "display_name": "Python",
   "language": "python",
   "name": "conda-env-python-py"
  },
  "language_info": {
   "codemirror_mode": {
    "name": "ipython",
    "version": 3
   },
   "file_extension": ".py",
   "mimetype": "text/x-python",
   "name": "python",
   "nbconvert_exporter": "python",
   "pygments_lexer": "ipython3",
   "version": "3.6.10"
  }
 },
 "nbformat": 4,
 "nbformat_minor": 4
}
